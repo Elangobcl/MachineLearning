{
 "cells": [
  {
   "cell_type": "markdown",
   "id": "2944563b-0fda-4f73-bdd4-bc2274b1ca4d",
   "metadata": {
    "tags": []
   },
   "source": [
    "# Important Points\n",
    "1. **DataSeries** - Its like a column in a table\n",
    "2. **DataFrame** - 2 dimensional data structure, like a 2 dimensional array, or a table with rows and columns"
   ]
  },
  {
   "cell_type": "code",
   "execution_count": 3,
   "id": "af508912-19aa-4823-b8c4-0dfc2fdfb91c",
   "metadata": {},
   "outputs": [],
   "source": [
    "import pandas as pd"
   ]
  },
  {
   "cell_type": "markdown",
   "id": "2efb6a4b-ab6a-4d96-9989-e8dd1538bce0",
   "metadata": {
    "tags": []
   },
   "source": [
    "# DataSeries"
   ]
  },
  {
   "cell_type": "code",
   "execution_count": 13,
   "id": "c83b3966-7d73-4c3c-b517-e83b2a647799",
   "metadata": {},
   "outputs": [
    {
     "data": {
      "text/plain": [
       "0      0\n",
       "1    128\n",
       "2    256\n",
       "dtype: int64"
      ]
     },
     "execution_count": 13,
     "metadata": {},
     "output_type": "execute_result"
    }
   ],
   "source": [
    "color = [0,128,256]\n",
    "pd.Series(color)"
   ]
  },
  {
   "cell_type": "code",
   "execution_count": 14,
   "id": "ed1cdfea-773f-43a8-9e6a-9cb618443a6e",
   "metadata": {},
   "outputs": [
    {
     "data": {
      "text/plain": [
       "Black      0\n",
       "Grey     128\n",
       "White    256\n",
       "dtype: int64"
      ]
     },
     "execution_count": 14,
     "metadata": {},
     "output_type": "execute_result"
    }
   ],
   "source": [
    "pd.Series(color, index=[\"Black\", \"Grey\", \"White\"])"
   ]
  },
  {
   "cell_type": "markdown",
   "id": "9cc60d5d-b5e4-4543-9dea-70d293eddcaf",
   "metadata": {
    "tags": []
   },
   "source": [
    "# DataFrame"
   ]
  },
  {
   "cell_type": "code",
   "execution_count": null,
   "id": "b8f638b9-9474-4c57-a374-4001a2da1bef",
   "metadata": {},
   "outputs": [],
   "source": [
    "df.head(10) # Displays first 10 entries in the Df, default head shows first 5\n",
    "df.tail() # Default, Shows last 5 entries\n",
    "df.info() # Returns info (Rows&column, value datatype, non-null count) about the I/P Df\n",
    "df.duplicated() # Returns True if Rows are duplicated\n",
    "df.corr() # Shows relationship between columns\n",
    "df.isna().sum().sort_values(ascending=False) # Sorts (desceding order, deafault ascending) sum of NaN values in each column\n",
    "df.columns/ df.keys() #Returns columns headings/keys\n",
    "df.describe() #Numerical stats of all Numerical columns\n",
    "\n"
   ]
  }
 ],
 "metadata": {
  "kernelspec": {
   "display_name": "Python 3 (ipykernel)",
   "language": "python",
   "name": "python3"
  },
  "language_info": {
   "codemirror_mode": {
    "name": "ipython",
    "version": 3
   },
   "file_extension": ".py",
   "mimetype": "text/x-python",
   "name": "python",
   "nbconvert_exporter": "python",
   "pygments_lexer": "ipython3",
   "version": "3.9.1"
  }
 },
 "nbformat": 4,
 "nbformat_minor": 5
}
